{
 "cells": [
  {
   "attachments": {},
   "cell_type": "markdown",
   "metadata": {},
   "source": [
    "# Info"
   ]
  },
  {
   "attachments": {},
   "cell_type": "markdown",
   "metadata": {},
   "source": [
    "- Yaml files:\n",
    "    - Pros:\n",
    "        - Hierarchical view of configuration\n",
    "    - Cons:\n",
    "        - Not python = Need to use specific code for parameters that need special types\n",
    "\n",
    "- Argparse:\n",
    "    - Pros:\n",
    "        - Python = can use other libraries as defaults and not have specific code to handle special parameters\n",
    "    - Cons:\n",
    "        - Not hierarchical?\n"
   ]
  },
  {
   "attachments": {},
   "cell_type": "markdown",
   "metadata": {},
   "source": [
    "Goals\n",
    "- Handle experiments configurations\n",
    "\n",
    "    - Save with unique experiment ID\n",
    "        - exp ID = 16 (default) chars long alphanumeric string\n",
    "        - prefix can be used to run simultaneously on different machines and not mix experiments\n",
    "    - Check if one configuration has already been run"
   ]
  },
  {
   "attachments": {},
   "cell_type": "markdown",
   "metadata": {},
   "source": [
    "Questions:\n",
    "\n",
    "- Should we separate keys that need to be swept?\n",
    "    - e.g. dataset name: [dataset_name1, dataset_name2, ...]\n",
    "\n",
    "    - Simplest solution: Give a warning if calling a cfg containing a \"to-sweep\" key"
   ]
  },
  {
   "attachments": {},
   "cell_type": "markdown",
   "metadata": {},
   "source": [
    "# Test"
   ]
  },
  {
   "cell_type": "code",
   "execution_count": 2,
   "metadata": {},
   "outputs": [],
   "source": [
    "import sys\n",
    "from copy import deepcopy"
   ]
  },
  {
   "cell_type": "code",
   "execution_count": 3,
   "metadata": {},
   "outputs": [
    {
     "name": "stdout",
     "output_type": "stream",
     "text": [
      "['../', '/Users/federicosiciliano/Desktop/Py_utils/exp_utils/ntb', '/Library/Developer/CommandLineTools/Library/Frameworks/Python3.framework/Versions/3.8/lib/python38.zip', '/Library/Developer/CommandLineTools/Library/Frameworks/Python3.framework/Versions/3.8/lib/python3.8', '/Library/Developer/CommandLineTools/Library/Frameworks/Python3.framework/Versions/3.8/lib/python3.8/lib-dynload', '', '/Users/federicosiciliano/Library/Python/3.8/lib/python/site-packages', '/Library/Developer/CommandLineTools/Library/Frameworks/Python3.framework/Versions/3.8/lib/python3.8/site-packages']\n"
     ]
    }
   ],
   "source": [
    "project_folder = \"../\"\n",
    "sys.path.insert(0, project_folder)\n",
    "print(sys.path) # view the path and verify"
   ]
  },
  {
   "cell_type": "code",
   "execution_count": 4,
   "metadata": {},
   "outputs": [],
   "source": [
    "import exp_utils"
   ]
  },
  {
   "attachments": {},
   "cell_type": "markdown",
   "metadata": {},
   "source": [
    "## Configuration"
   ]
  },
  {
   "attachments": {},
   "cell_type": "markdown",
   "metadata": {},
   "source": [
    "### Load"
   ]
  },
  {
   "cell_type": "code",
   "execution_count": 5,
   "metadata": {},
   "outputs": [],
   "source": [
    "cfg = exp_utils.cfg.load_configuration()"
   ]
  },
  {
   "cell_type": "code",
   "execution_count": 6,
   "metadata": {},
   "outputs": [
    {
     "data": {
      "text/plain": [
       "{'app1': {'foo_str': 'string_value',\n",
       "  'foo_int': 123,\n",
       "  'foo_float': 1.23,\n",
       "  'foo_none': None,\n",
       "  'foo_list1': [123, '456', 789.0],\n",
       "  'foo_list2': [123, '456'],\n",
       "  'foo_ref1': 'string_value',\n",
       "  'foo_ref2': 'string_value',\n",
       "  'foo_parse1': ['a', 'b', 'c'],\n",
       "  'foo_parse2': array([1, 2, 3]),\n",
       "  'foo_parse3':    0  1  2\n",
       "  0  1  2  3\n",
       "  1  4  5  6,\n",
       "  'foo_parse4': 8,\n",
       "  'app1_2': {'foo_str1_2': 'app2_foo'},\n",
       "  'app_glob': 'glob',\n",
       "  'app_glob2': 'glob2',\n",
       "  'app_glob1_2': 'glob1_2'},\n",
       " '__exp__': {'name': 'prova',\n",
       "  '__imports__': ['numpy as np',\n",
       "   {'name': 'pandas', 'fromlist': ['DataFrame']},\n",
       "   'multiprocessing'],\n",
       "  '__nosave__': {'app1.foo_parse4': None,\n",
       "   'app1.app1_2': None,\n",
       "   'app2.foo_str': None,\n",
       "   'app2.foo_int2': None,\n",
       "   'app2.app3.foo_int1': None,\n",
       "   'app1.app_glob1_2': None},\n",
       "  'project_folder': '../',\n",
       "  'key_len': 16,\n",
       "  'key_prefix': ''},\n",
       " 'app2': {'app3': {'foo_int1': 123}, 'foo_str': 'app2_foo', 'foo_int2': 123}}"
      ]
     },
     "execution_count": 6,
     "metadata": {},
     "output_type": "execute_result"
    }
   ],
   "source": [
    "cfg"
   ]
  },
  {
   "cell_type": "code",
   "execution_count": 7,
   "metadata": {},
   "outputs": [
    {
     "data": {
      "text/plain": [
       "exp_utils.cfg.ConfigObject"
      ]
     },
     "execution_count": 7,
     "metadata": {},
     "output_type": "execute_result"
    }
   ],
   "source": [
    "type(cfg)"
   ]
  },
  {
   "cell_type": "code",
   "execution_count": 8,
   "metadata": {},
   "outputs": [
    {
     "data": {
      "text/plain": [
       "(dict, dict)"
      ]
     },
     "execution_count": 8,
     "metadata": {},
     "output_type": "execute_result"
    }
   ],
   "source": [
    "type(cfg[\"app1\"]), type(cfg[\"__exp__\"])"
   ]
  },
  {
   "cell_type": "code",
   "execution_count": 9,
   "metadata": {},
   "outputs": [
    {
     "data": {
      "text/plain": [
       "{'name': 'prova',\n",
       " '__imports__': ['numpy as np',\n",
       "  {'name': 'pandas', 'fromlist': ['DataFrame']},\n",
       "  'multiprocessing'],\n",
       " '__nosave__': {'app1.foo_parse4': None,\n",
       "  'app1.app1_2': None,\n",
       "  'app2.foo_str': None,\n",
       "  'app2.foo_int2': None,\n",
       "  'app2.app3.foo_int1': None,\n",
       "  'app1.app_glob1_2': None},\n",
       " 'project_folder': '../',\n",
       " 'key_len': 16,\n",
       " 'key_prefix': ''}"
      ]
     },
     "execution_count": 9,
     "metadata": {},
     "output_type": "execute_result"
    }
   ],
   "source": [
    "cfg[\"__exp__\"]"
   ]
  },
  {
   "cell_type": "code",
   "execution_count": 10,
   "metadata": {},
   "outputs": [
    {
     "data": {
      "text/plain": [
       "array([1, 2, 3])"
      ]
     },
     "execution_count": 10,
     "metadata": {},
     "output_type": "execute_result"
    }
   ],
   "source": [
    "cfg[\"app1\"][\"foo_parse2\"]"
   ]
  },
  {
   "cell_type": "code",
   "execution_count": 11,
   "metadata": {},
   "outputs": [
    {
     "data": {
      "text/plain": [
       "array([1, 2, 3])"
      ]
     },
     "execution_count": 11,
     "metadata": {},
     "output_type": "execute_result"
    }
   ],
   "source": [
    "cfg[\"app1.foo_parse2\"]"
   ]
  },
  {
   "cell_type": "code",
   "execution_count": 12,
   "metadata": {},
   "outputs": [],
   "source": [
    "#cfg.app1.foo_parse2 #This doesn't work and gives AttributeError: 'dict' object has no attribute 'foo_parse2'\n",
    "# unless each dict inside cfg is converted to ConfigObject"
   ]
  },
  {
   "cell_type": "code",
   "execution_count": 13,
   "metadata": {},
   "outputs": [],
   "source": [
    "cfg[\"app3.foo_str\"] = \"abc\""
   ]
  },
  {
   "cell_type": "code",
   "execution_count": 14,
   "metadata": {},
   "outputs": [
    {
     "data": {
      "text/plain": [
       "('abc', 'abc')"
      ]
     },
     "execution_count": 14,
     "metadata": {},
     "output_type": "execute_result"
    }
   ],
   "source": [
    "cfg[\"app3.foo_str\"],cfg[\"app3\"][\"foo_str\"]"
   ]
  },
  {
   "attachments": {},
   "cell_type": "markdown",
   "metadata": {},
   "source": [
    "## Experiment"
   ]
  },
  {
   "cell_type": "code",
   "execution_count": 14,
   "metadata": {},
   "outputs": [],
   "source": [
    "cfg, exp_cfg = exp_utils.exp.separate_exp_cfg(cfg) #drop __exp__ key cause it doesn't define an experiment's parameters"
   ]
  },
  {
   "attachments": {},
   "cell_type": "markdown",
   "metadata": {},
   "source": [
    "### Experiment ids"
   ]
  },
  {
   "cell_type": "code",
   "execution_count": 15,
   "metadata": {},
   "outputs": [
    {
     "name": "stdout",
     "output_type": "stream",
     "text": [
      "eNhVVnmZQ7jDMnAp\n",
      "B-0BDI2sx6Z6BMgfdk\n",
      "zJsQ2euT\n",
      "FSajX3\n"
     ]
    }
   ],
   "source": [
    "print(exp_utils.exp.generate_random_id())\n",
    "print(exp_utils.exp.generate_random_id(key_prefix=\"B-\"))\n",
    "print(exp_utils.exp.generate_random_id(key_len=8))\n",
    "print(exp_utils.exp.generate_random_id(key_len=4,key_prefix=\"FS\"))"
   ]
  },
  {
   "cell_type": "code",
   "execution_count": 16,
   "metadata": {},
   "outputs": [
    {
     "name": "stdout",
     "output_type": "stream",
     "text": [
      "Default number of possible keys: 10 ^ 28.678267031972062\n"
     ]
    }
   ],
   "source": [
    "import string\n",
    "import numpy as np\n",
    "poss_chars = len(string.ascii_letters + string.digits) #62\n",
    "default_k = 16\n",
    "default_poss_keys = poss_chars ** default_k\n",
    "print(\"Default number of possible keys: 10\",\"^\",np.log10(float(default_poss_keys)))"
   ]
  },
  {
   "attachments": {},
   "cell_type": "markdown",
   "metadata": {},
   "source": [
    "### Hashing"
   ]
  },
  {
   "cell_type": "code",
   "execution_count": 17,
   "metadata": {},
   "outputs": [],
   "source": [
    "#json.dumps(cfg, sort_keys=True).encode()\n",
    "#this gives TypeError: Object of type ndarray is not JSON serializable\n",
    "#or TypeError: Object of type DataFrame is not JSON serializable\n",
    "\n",
    "#The only solution, is save each numpy array / pandas DF / else in the configuration as their own experiment, having a certain experiment ID\n",
    "numpy_key = \"app1.foo_parse2\"\n",
    "np_to_save_elsewhere = cfg[numpy_key]\n",
    "np_exp_id = 123 #exp_utils.exp.generate_random_id() #get numpy object experiment ID somehow\n",
    "cfg[numpy_key] = np_exp_id #now cfg doesn't have the numpy array anymore\n",
    "\n",
    "pandas_key = \"app1.foo_parse3\"\n",
    "pd_to_save_elsewhere = cfg[pandas_key]\n",
    "pd_exp_id = 42 #exp_utils.exp.generate_random_id() #get pandas object experiment ID somehow\n",
    "cfg[pandas_key] = pd_exp_id #now cfg doesn't have the pandas DF anymore"
   ]
  },
  {
   "cell_type": "code",
   "execution_count": 18,
   "metadata": {},
   "outputs": [
    {
     "data": {
      "text/plain": [
       "'7d5beb1aeca81e09a51095e098c7172b'"
      ]
     },
     "execution_count": 18,
     "metadata": {},
     "output_type": "execute_result"
    }
   ],
   "source": [
    "exp_utils.exp.hash_config(cfg)"
   ]
  },
  {
   "cell_type": "code",
   "execution_count": 19,
   "metadata": {},
   "outputs": [
    {
     "data": {
      "text/plain": [
       "{'app1': {'foo_str': 'string_value',\n",
       "  'foo_int': 123,\n",
       "  'foo_float': 1.23,\n",
       "  'foo_none': None,\n",
       "  'foo_list1': [123, '456', 789.0],\n",
       "  'foo_list2': [123, '456'],\n",
       "  'foo_ref1': 'string_value',\n",
       "  'foo_ref2': 'string_value',\n",
       "  'foo_parse1': ['a', 'b', 'c'],\n",
       "  'foo_parse2': 123,\n",
       "  'foo_parse3': 42,\n",
       "  'foo_parse4': 8,\n",
       "  'app1_2': {'foo_str1_2': 'app2_foo'},\n",
       "  'app_glob': 'glob',\n",
       "  'app_glob2': 'glob2',\n",
       "  'app_glob1_2': 'glob1_2'},\n",
       " 'app2': {'app3': {'foo_int1': 123}, 'foo_str': 'app2_foo', 'foo_int2': 123},\n",
       " 'app3': {'foo_str': 'abc'}}"
      ]
     },
     "execution_count": 19,
     "metadata": {},
     "output_type": "execute_result"
    }
   ],
   "source": [
    "cfg"
   ]
  },
  {
   "cell_type": "code",
   "execution_count": 20,
   "metadata": {},
   "outputs": [
    {
     "data": {
      "text/plain": [
       "(True, 'b8rTUqbVFHHqBrJP')"
      ]
     },
     "execution_count": 20,
     "metadata": {},
     "output_type": "execute_result"
    }
   ],
   "source": [
    "#cfg, exp_cfg = exp_utils.exp.separate_exp_cfg(cfg) #drop __exp__ key cause it doesn't define an experiment's parameters\n",
    "exp_utils.exp.get_experiment_id(cfg, exp_cfg)"
   ]
  },
  {
   "attachments": {},
   "cell_type": "markdown",
   "metadata": {},
   "source": [
    "### Save experiments"
   ]
  },
  {
   "cell_type": "code",
   "execution_count": 21,
   "metadata": {},
   "outputs": [],
   "source": [
    "cfg = exp_utils.exp.combine_exp_cfg(cfg, exp_cfg)"
   ]
  },
  {
   "cell_type": "code",
   "execution_count": 22,
   "metadata": {},
   "outputs": [
    {
     "data": {
      "text/plain": [
       "{'name': 'prova',\n",
       " '__imports__': ['numpy as np',\n",
       "  {'name': 'pandas', 'fromlist': ['DataFrame']},\n",
       "  'multiprocessing'],\n",
       " '__nosave__': {'app1.foo_parse4': None,\n",
       "  'app1.app1_2': None,\n",
       "  'app2.foo_str': None,\n",
       "  'app2.foo_int2': None,\n",
       "  'app2.app3.foo_int1': None,\n",
       "  'app1.app_glob1_2': None},\n",
       " 'project_folder': '../',\n",
       " 'key_len': 16,\n",
       " 'key_prefix': '',\n",
       " 'hash': '691c996f5bad5a61d0b524a155f2908b'}"
      ]
     },
     "execution_count": 22,
     "metadata": {},
     "output_type": "execute_result"
    }
   ],
   "source": [
    "cfg[\"__exp__\"]"
   ]
  },
  {
   "cell_type": "code",
   "execution_count": 23,
   "metadata": {},
   "outputs": [],
   "source": [
    "exp_utils.exp.save_experiment(cfg)\n",
    "#save experiment can be called directly; it will set the experiment id directly"
   ]
  },
  {
   "cell_type": "code",
   "execution_count": 24,
   "metadata": {},
   "outputs": [
    {
     "data": {
      "text/plain": [
       "((True, 'b8rTUqbVFHHqBrJP'), (True, 'b8rTUqbVFHHqBrJP'))"
      ]
     },
     "execution_count": 24,
     "metadata": {},
     "output_type": "execute_result"
    }
   ],
   "source": [
    "exp_utils.exp.get_experiment_id(cfg), exp_utils.exp.get_experiment_id(cfg)\n",
    "#If the cfg exists, we get\n",
    "# exp_found True\n",
    "# always the same experiment_id"
   ]
  },
  {
   "cell_type": "code",
   "execution_count": 25,
   "metadata": {},
   "outputs": [],
   "source": [
    "cfg, exp_cfg = exp_utils.exp.separate_exp_cfg(cfg) #drop __exp__ key cause it doesn't define an experiment's parameters"
   ]
  },
  {
   "cell_type": "code",
   "execution_count": 26,
   "metadata": {},
   "outputs": [
    {
     "data": {
      "text/plain": [
       "((True, 'b8rTUqbVFHHqBrJP'), (True, 'b8rTUqbVFHHqBrJP'))"
      ]
     },
     "execution_count": 26,
     "metadata": {},
     "output_type": "execute_result"
    }
   ],
   "source": [
    "exp_utils.exp.get_experiment_id(cfg,exp_cfg), exp_utils.exp.get_experiment_id(cfg,exp_cfg) #Even if the cfg is divided, the result is the same"
   ]
  },
  {
   "cell_type": "code",
   "execution_count": 27,
   "metadata": {},
   "outputs": [],
   "source": [
    "cfg[\"app5\"] = 5"
   ]
  },
  {
   "cell_type": "code",
   "execution_count": 28,
   "metadata": {},
   "outputs": [
    {
     "data": {
      "text/plain": [
       "((True, '0sMmmIRL2vbiGUyH'), (True, '0sMmmIRL2vbiGUyH'))"
      ]
     },
     "execution_count": 28,
     "metadata": {},
     "output_type": "execute_result"
    }
   ],
   "source": [
    "exp_utils.exp.get_experiment_id(cfg,exp_cfg), exp_utils.exp.get_experiment_id(cfg,exp_cfg) #If the cfg doesn't exist, we get a different experiment_id. Also, exp_found is False"
   ]
  },
  {
   "cell_type": "code",
   "execution_count": 29,
   "metadata": {},
   "outputs": [
    {
     "data": {
      "text/plain": [
       "(True, '0sMmmIRL2vbiGUyH')"
      ]
     },
     "execution_count": 29,
     "metadata": {},
     "output_type": "execute_result"
    }
   ],
   "source": [
    "exp_utils.exp.get_set_experiment_id(cfg,exp_cfg)"
   ]
  },
  {
   "cell_type": "code",
   "execution_count": 30,
   "metadata": {},
   "outputs": [
    {
     "data": {
      "text/plain": [
       "'0sMmmIRL2vbiGUyH'"
      ]
     },
     "execution_count": 30,
     "metadata": {},
     "output_type": "execute_result"
    }
   ],
   "source": [
    "exp_cfg[\"experiment_id\"] #now the experiment_id is saved inside exp_cfg"
   ]
  },
  {
   "cell_type": "code",
   "execution_count": 31,
   "metadata": {},
   "outputs": [
    {
     "data": {
      "text/plain": [
       "((True, '0sMmmIRL2vbiGUyH'), '0sMmmIRL2vbiGUyH')"
      ]
     },
     "execution_count": 31,
     "metadata": {},
     "output_type": "execute_result"
    }
   ],
   "source": [
    "exp_utils.exp.get_experiment_id(cfg,exp_cfg), exp_cfg[\"experiment_id\"]\n",
    "# get_experiment_id is meant to search for the experiment in the file,\n",
    "# so, if it doesn't find the cfg in the saved configurations,\n",
    "# it will not set the exp_id inside exp_cfg"
   ]
  },
  {
   "cell_type": "code",
   "execution_count": 32,
   "metadata": {},
   "outputs": [
    {
     "data": {
      "text/plain": [
       "((True, '0sMmmIRL2vbiGUyH'), '0sMmmIRL2vbiGUyH')"
      ]
     },
     "execution_count": 32,
     "metadata": {},
     "output_type": "execute_result"
    }
   ],
   "source": [
    "exp_utils.exp.get_set_experiment_id(cfg,exp_cfg), exp_cfg[\"experiment_id\"]\n",
    "# in the same way, get_set_experiment_id is meant to search for the experiment in the file,\n",
    "# so, if it doesn't find the cfg in the saved configurations,\n",
    "# it will not return the exp_id inside exp_cfg\n",
    "# and will overwrite it"
   ]
  },
  {
   "cell_type": "code",
   "execution_count": 33,
   "metadata": {},
   "outputs": [],
   "source": [
    "prev_cfg = deepcopy(cfg)"
   ]
  },
  {
   "cell_type": "code",
   "execution_count": 34,
   "metadata": {},
   "outputs": [],
   "source": [
    "exp_utils.exp.save_experiment(cfg,exp_cfg)"
   ]
  },
  {
   "cell_type": "code",
   "execution_count": 35,
   "metadata": {},
   "outputs": [
    {
     "data": {
      "text/plain": [
       "True"
      ]
     },
     "execution_count": 35,
     "metadata": {},
     "output_type": "execute_result"
    }
   ],
   "source": [
    "prev_cfg == cfg #check if cfg has been restored"
   ]
  },
  {
   "cell_type": "code",
   "execution_count": 36,
   "metadata": {},
   "outputs": [
    {
     "data": {
      "text/plain": [
       "((True, '0sMmmIRL2vbiGUyH'),\n",
       " '0sMmmIRL2vbiGUyH',\n",
       " (True, '0sMmmIRL2vbiGUyH'),\n",
       " '0sMmmIRL2vbiGUyH')"
      ]
     },
     "execution_count": 36,
     "metadata": {},
     "output_type": "execute_result"
    }
   ],
   "source": [
    "#Now that the experiment is saved, we will always get the same experiment_id\n",
    "exp_utils.exp.get_experiment_id(cfg,exp_cfg), exp_cfg[\"experiment_id\"], exp_utils.exp.get_set_experiment_id(cfg,exp_cfg), exp_cfg[\"experiment_id\"]"
   ]
  },
  {
   "cell_type": "code",
   "execution_count": 37,
   "metadata": {},
   "outputs": [
    {
     "data": {
      "text/plain": [
       "((True, 'DO2T84byfPBTAviv'),\n",
       " '0sMmmIRL2vbiGUyH',\n",
       " (True, 'DO2T84byfPBTAviv'),\n",
       " 'DO2T84byfPBTAviv')"
      ]
     },
     "execution_count": 37,
     "metadata": {},
     "output_type": "execute_result"
    }
   ],
   "source": [
    "#If we modify cfg so that is new, we get the same results as before\n",
    "cfg[\"new_key\"] = \"kmasdkasm\"\n",
    "cfg[\"new_key2\"] = {\"abc\":123}\n",
    "exp_utils.exp.get_experiment_id(cfg,exp_cfg), exp_cfg[\"experiment_id\"], exp_utils.exp.get_set_experiment_id(cfg,exp_cfg), exp_cfg[\"experiment_id\"]"
   ]
  },
  {
   "cell_type": "code",
   "execution_count": 38,
   "metadata": {},
   "outputs": [],
   "source": [
    "exp_utils.exp.save_experiment(cfg,exp_cfg)"
   ]
  },
  {
   "cell_type": "code",
   "execution_count": 39,
   "metadata": {},
   "outputs": [
    {
     "data": {
      "text/plain": [
       "{'app1.foo_parse4': None,\n",
       " 'app1.app1_2': None,\n",
       " 'app2.foo_str': None,\n",
       " 'app2.foo_int2': None,\n",
       " 'app2.app3.foo_int1': None,\n",
       " 'app1.app_glob1_2': None}"
      ]
     },
     "execution_count": 39,
     "metadata": {},
     "output_type": "execute_result"
    }
   ],
   "source": [
    "exp_cfg[\"__nosave__\"] #check nosave keys"
   ]
  },
  {
   "cell_type": "code",
   "execution_count": 40,
   "metadata": {},
   "outputs": [],
   "source": [
    "cfg[\"app2.foo_str\"] = \"modified\" #modify a nosave key"
   ]
  },
  {
   "cell_type": "code",
   "execution_count": 41,
   "metadata": {},
   "outputs": [
    {
     "data": {
      "text/plain": [
       "((True, 'DO2T84byfPBTAviv'),\n",
       " 'DO2T84byfPBTAviv',\n",
       " (True, 'DO2T84byfPBTAviv'),\n",
       " 'DO2T84byfPBTAviv')"
      ]
     },
     "execution_count": 41,
     "metadata": {},
     "output_type": "execute_result"
    }
   ],
   "source": [
    "#If a nosave key is modified, the cfg will still match a saved one\n",
    "exp_utils.exp.get_experiment_id(cfg,exp_cfg), exp_cfg[\"experiment_id\"], exp_utils.exp.get_set_experiment_id(cfg,exp_cfg), exp_cfg[\"experiment_id\"]"
   ]
  },
  {
   "attachments": {},
   "cell_type": "markdown",
   "metadata": {},
   "source": [
    "### Load experiments"
   ]
  },
  {
   "cell_type": "code",
   "execution_count": 42,
   "metadata": {},
   "outputs": [
    {
     "data": {
      "text/plain": [
       "{'0sMmmIRL2vbiGUyH': {'app1': {'app_glob': 'glob',\n",
       "   'app_glob2': 'glob2',\n",
       "   'foo_float': 1.23,\n",
       "   'foo_int': 123,\n",
       "   'foo_list1': [123, '456', 789.0],\n",
       "   'foo_list2': [123, '456'],\n",
       "   'foo_none': None,\n",
       "   'foo_parse1': ['a', 'b', 'c'],\n",
       "   'foo_parse2': 123,\n",
       "   'foo_parse3': 42,\n",
       "   'foo_ref1': 'string_value',\n",
       "   'foo_ref2': 'string_value',\n",
       "   'foo_str': 'string_value'},\n",
       "  'app2': {'app3': {}},\n",
       "  'app3': {'foo_str': 'abc'},\n",
       "  'app5': 5},\n",
       " 'HhN3ZNkPkoxHkDzz': {'app1': {'app_glob': 'glob',\n",
       "   'app_glob2': 'glob2',\n",
       "   'foo_float': 1.23,\n",
       "   'foo_int': 123,\n",
       "   'foo_list1': 123,\n",
       "   'foo_list2': [123, '456'],\n",
       "   'foo_none': None,\n",
       "   'foo_parse1': ['a', 'b', 'c'],\n",
       "   'foo_parse2': 123,\n",
       "   'foo_parse3': 42,\n",
       "   'foo_ref1': 'string_value',\n",
       "   'foo_ref2': 'string_value',\n",
       "   'foo_str': 'string_value'},\n",
       "  'app2': {'app3': {}},\n",
       "  'app3': {'foo_str': 'abc'},\n",
       "  'app5': 5,\n",
       "  'new_key': 'kmasdkasm',\n",
       "  'new_key2': {'abc': 123}},\n",
       " 'mTzSztICfKt0Voj3': {'app1': {'app_glob': 'glob',\n",
       "   'app_glob2': 'glob2',\n",
       "   'foo_float': 1.23,\n",
       "   'foo_int': 123,\n",
       "   'foo_list1': '456',\n",
       "   'foo_list2': [123, '456'],\n",
       "   'foo_none': None,\n",
       "   'foo_parse1': ['a', 'b', 'c'],\n",
       "   'foo_parse2': 123,\n",
       "   'foo_parse3': 42,\n",
       "   'foo_ref1': 'string_value',\n",
       "   'foo_ref2': 'string_value',\n",
       "   'foo_str': 'string_value'},\n",
       "  'app2': {'app3': {}},\n",
       "  'app3': {'foo_str': 'abc'},\n",
       "  'app5': 5,\n",
       "  'new_key': 'kmasdkasm',\n",
       "  'new_key2': {'abc': 123}},\n",
       " '8WNMLIBK5jkrJaIY': {'app1': {'app_glob': 'glob',\n",
       "   'app_glob2': 'glob2',\n",
       "   'foo_float': 1.23,\n",
       "   'foo_int': 123,\n",
       "   'foo_list1': 789.0,\n",
       "   'foo_list2': [123, '456'],\n",
       "   'foo_none': None,\n",
       "   'foo_parse1': ['a', 'b', 'c'],\n",
       "   'foo_parse2': 123,\n",
       "   'foo_parse3': 42,\n",
       "   'foo_ref1': 'string_value',\n",
       "   'foo_ref2': 'string_value',\n",
       "   'foo_str': 'string_value'},\n",
       "  'app2': {'app3': {}},\n",
       "  'app3': {'foo_str': 'abc'},\n",
       "  'app5': 5,\n",
       "  'new_key': 'kmasdkasm',\n",
       "  'new_key2': {'abc': 123}},\n",
       " 'DO2T84byfPBTAviv': {'app1': {'app_glob': 'glob',\n",
       "   'app_glob2': 'glob2',\n",
       "   'foo_float': 1.23,\n",
       "   'foo_int': 123,\n",
       "   'foo_list1': [123, '456', 789.0],\n",
       "   'foo_list2': [123, '456'],\n",
       "   'foo_none': None,\n",
       "   'foo_parse1': ['a', 'b', 'c'],\n",
       "   'foo_parse2': 123,\n",
       "   'foo_parse3': 42,\n",
       "   'foo_ref1': 'string_value',\n",
       "   'foo_ref2': 'string_value',\n",
       "   'foo_str': 'string_value'},\n",
       "  'app2': {'app3': {}},\n",
       "  'app3': {'foo_str': 'abc'},\n",
       "  'app5': 5,\n",
       "  'new_key': 'kmasdkasm',\n",
       "  'new_key2': {'abc': 123}},\n",
       " 'b8rTUqbVFHHqBrJP': {'app1': {'app_glob': 'glob',\n",
       "   'app_glob2': 'glob2',\n",
       "   'foo_float': 1.23,\n",
       "   'foo_int': 123,\n",
       "   'foo_list1': [123, '456', 789.0],\n",
       "   'foo_list2': [123, '456'],\n",
       "   'foo_none': None,\n",
       "   'foo_parse1': ['a', 'b', 'c'],\n",
       "   'foo_parse2': 123,\n",
       "   'foo_parse3': 42,\n",
       "   'foo_ref1': 'string_value',\n",
       "   'foo_ref2': 'string_value',\n",
       "   'foo_str': 'string_value'},\n",
       "  'app2': {'app3': {}},\n",
       "  'app3': {'foo_str': 'abc'}}}"
      ]
     },
     "execution_count": 42,
     "metadata": {},
     "output_type": "execute_result"
    }
   ],
   "source": [
    "all_exps = exp_utils.exp.get_experiments(**exp_cfg)\n",
    "all_exps"
   ]
  },
  {
   "cell_type": "code",
   "execution_count": 43,
   "metadata": {},
   "outputs": [
    {
     "data": {
      "text/plain": [
       "{'0sMmmIRL2vbiGUyH': {'app1': {'app_glob': 'glob',\n",
       "   'app_glob2': 'glob2',\n",
       "   'foo_float': 1.23,\n",
       "   'foo_int': 123,\n",
       "   'foo_list1': [123, '456', 789.0],\n",
       "   'foo_list2': [123, '456'],\n",
       "   'foo_none': None,\n",
       "   'foo_parse1': ['a', 'b', 'c'],\n",
       "   'foo_parse2': 123,\n",
       "   'foo_parse3': 42,\n",
       "   'foo_ref1': 'string_value',\n",
       "   'foo_ref2': 'string_value',\n",
       "   'foo_str': 'string_value'},\n",
       "  'app2': {'app3': {}},\n",
       "  'app3': {'foo_str': 'abc'},\n",
       "  'app5': 5},\n",
       " 'HhN3ZNkPkoxHkDzz': {'app1': {'app_glob': 'glob',\n",
       "   'app_glob2': 'glob2',\n",
       "   'foo_float': 1.23,\n",
       "   'foo_int': 123,\n",
       "   'foo_list1': 123,\n",
       "   'foo_list2': [123, '456'],\n",
       "   'foo_none': None,\n",
       "   'foo_parse1': ['a', 'b', 'c'],\n",
       "   'foo_parse2': 123,\n",
       "   'foo_parse3': 42,\n",
       "   'foo_ref1': 'string_value',\n",
       "   'foo_ref2': 'string_value',\n",
       "   'foo_str': 'string_value'},\n",
       "  'app2': {'app3': {}},\n",
       "  'app3': {'foo_str': 'abc'},\n",
       "  'app5': 5,\n",
       "  'new_key': 'kmasdkasm',\n",
       "  'new_key2': {'abc': 123}},\n",
       " 'mTzSztICfKt0Voj3': {'app1': {'app_glob': 'glob',\n",
       "   'app_glob2': 'glob2',\n",
       "   'foo_float': 1.23,\n",
       "   'foo_int': 123,\n",
       "   'foo_list1': '456',\n",
       "   'foo_list2': [123, '456'],\n",
       "   'foo_none': None,\n",
       "   'foo_parse1': ['a', 'b', 'c'],\n",
       "   'foo_parse2': 123,\n",
       "   'foo_parse3': 42,\n",
       "   'foo_ref1': 'string_value',\n",
       "   'foo_ref2': 'string_value',\n",
       "   'foo_str': 'string_value'},\n",
       "  'app2': {'app3': {}},\n",
       "  'app3': {'foo_str': 'abc'},\n",
       "  'app5': 5,\n",
       "  'new_key': 'kmasdkasm',\n",
       "  'new_key2': {'abc': 123}},\n",
       " '8WNMLIBK5jkrJaIY': {'app1': {'app_glob': 'glob',\n",
       "   'app_glob2': 'glob2',\n",
       "   'foo_float': 1.23,\n",
       "   'foo_int': 123,\n",
       "   'foo_list1': 789.0,\n",
       "   'foo_list2': [123, '456'],\n",
       "   'foo_none': None,\n",
       "   'foo_parse1': ['a', 'b', 'c'],\n",
       "   'foo_parse2': 123,\n",
       "   'foo_parse3': 42,\n",
       "   'foo_ref1': 'string_value',\n",
       "   'foo_ref2': 'string_value',\n",
       "   'foo_str': 'string_value'},\n",
       "  'app2': {'app3': {}},\n",
       "  'app3': {'foo_str': 'abc'},\n",
       "  'app5': 5,\n",
       "  'new_key': 'kmasdkasm',\n",
       "  'new_key2': {'abc': 123}},\n",
       " 'DO2T84byfPBTAviv': {'app1': {'app_glob': 'glob',\n",
       "   'app_glob2': 'glob2',\n",
       "   'foo_float': 1.23,\n",
       "   'foo_int': 123,\n",
       "   'foo_list1': [123, '456', 789.0],\n",
       "   'foo_list2': [123, '456'],\n",
       "   'foo_none': None,\n",
       "   'foo_parse1': ['a', 'b', 'c'],\n",
       "   'foo_parse2': 123,\n",
       "   'foo_parse3': 42,\n",
       "   'foo_ref1': 'string_value',\n",
       "   'foo_ref2': 'string_value',\n",
       "   'foo_str': 'string_value'},\n",
       "  'app2': {'app3': {}},\n",
       "  'app3': {'foo_str': 'abc'},\n",
       "  'app5': 5,\n",
       "  'new_key': 'kmasdkasm',\n",
       "  'new_key2': {'abc': 123}},\n",
       " 'b8rTUqbVFHHqBrJP': {'app1': {'app_glob': 'glob',\n",
       "   'app_glob2': 'glob2',\n",
       "   'foo_float': 1.23,\n",
       "   'foo_int': 123,\n",
       "   'foo_list1': [123, '456', 789.0],\n",
       "   'foo_list2': [123, '456'],\n",
       "   'foo_none': None,\n",
       "   'foo_parse1': ['a', 'b', 'c'],\n",
       "   'foo_parse2': 123,\n",
       "   'foo_parse3': 42,\n",
       "   'foo_ref1': 'string_value',\n",
       "   'foo_ref2': 'string_value',\n",
       "   'foo_str': 'string_value'},\n",
       "  'app2': {'app3': {}},\n",
       "  'app3': {'foo_str': 'abc'}}}"
      ]
     },
     "execution_count": 43,
     "metadata": {},
     "output_type": "execute_result"
    }
   ],
   "source": [
    "all_exps = exp_utils.exp.get_experiments(**exp_cfg, sub_cfg={\"abc\":123}) #if not setting check_type, nothing will be checked\n",
    "all_exps"
   ]
  },
  {
   "cell_type": "code",
   "execution_count": 44,
   "metadata": {},
   "outputs": [
    {
     "data": {
      "text/plain": [
       "{'HhN3ZNkPkoxHkDzz': {'app1': {'app_glob': 'glob',\n",
       "   'app_glob2': 'glob2',\n",
       "   'foo_float': 1.23,\n",
       "   'foo_int': 123,\n",
       "   'foo_list1': 123,\n",
       "   'foo_list2': [123, '456'],\n",
       "   'foo_none': None,\n",
       "   'foo_parse1': ['a', 'b', 'c'],\n",
       "   'foo_parse2': 123,\n",
       "   'foo_parse3': 42,\n",
       "   'foo_ref1': 'string_value',\n",
       "   'foo_ref2': 'string_value',\n",
       "   'foo_str': 'string_value'},\n",
       "  'app2': {'app3': {}},\n",
       "  'app3': {'foo_str': 'abc'},\n",
       "  'app5': 5,\n",
       "  'new_key': 'kmasdkasm',\n",
       "  'new_key2': {'abc': 123}},\n",
       " 'mTzSztICfKt0Voj3': {'app1': {'app_glob': 'glob',\n",
       "   'app_glob2': 'glob2',\n",
       "   'foo_float': 1.23,\n",
       "   'foo_int': 123,\n",
       "   'foo_list1': '456',\n",
       "   'foo_list2': [123, '456'],\n",
       "   'foo_none': None,\n",
       "   'foo_parse1': ['a', 'b', 'c'],\n",
       "   'foo_parse2': 123,\n",
       "   'foo_parse3': 42,\n",
       "   'foo_ref1': 'string_value',\n",
       "   'foo_ref2': 'string_value',\n",
       "   'foo_str': 'string_value'},\n",
       "  'app2': {'app3': {}},\n",
       "  'app3': {'foo_str': 'abc'},\n",
       "  'app5': 5,\n",
       "  'new_key': 'kmasdkasm',\n",
       "  'new_key2': {'abc': 123}},\n",
       " '8WNMLIBK5jkrJaIY': {'app1': {'app_glob': 'glob',\n",
       "   'app_glob2': 'glob2',\n",
       "   'foo_float': 1.23,\n",
       "   'foo_int': 123,\n",
       "   'foo_list1': 789.0,\n",
       "   'foo_list2': [123, '456'],\n",
       "   'foo_none': None,\n",
       "   'foo_parse1': ['a', 'b', 'c'],\n",
       "   'foo_parse2': 123,\n",
       "   'foo_parse3': 42,\n",
       "   'foo_ref1': 'string_value',\n",
       "   'foo_ref2': 'string_value',\n",
       "   'foo_str': 'string_value'},\n",
       "  'app2': {'app3': {}},\n",
       "  'app3': {'foo_str': 'abc'},\n",
       "  'app5': 5,\n",
       "  'new_key': 'kmasdkasm',\n",
       "  'new_key2': {'abc': 123}},\n",
       " 'DO2T84byfPBTAviv': {'app1': {'app_glob': 'glob',\n",
       "   'app_glob2': 'glob2',\n",
       "   'foo_float': 1.23,\n",
       "   'foo_int': 123,\n",
       "   'foo_list1': [123, '456', 789.0],\n",
       "   'foo_list2': [123, '456'],\n",
       "   'foo_none': None,\n",
       "   'foo_parse1': ['a', 'b', 'c'],\n",
       "   'foo_parse2': 123,\n",
       "   'foo_parse3': 42,\n",
       "   'foo_ref1': 'string_value',\n",
       "   'foo_ref2': 'string_value',\n",
       "   'foo_str': 'string_value'},\n",
       "  'app2': {'app3': {}},\n",
       "  'app3': {'foo_str': 'abc'},\n",
       "  'app5': 5,\n",
       "  'new_key': 'kmasdkasm',\n",
       "  'new_key2': {'abc': 123}}}"
      ]
     },
     "execution_count": 44,
     "metadata": {},
     "output_type": "execute_result"
    }
   ],
   "source": [
    "#with contain, sub_cfg must be a \"subset\" of the dict\n",
    "to_check = {'new_key': 'kmasdkasm','new_key2': {'abc': 123}}\n",
    "all_exps = exp_utils.exp.get_experiments(**exp_cfg, sub_cfg = to_check, check_type=\"contain\") #if not setting check_type, nothing will be checked\n",
    "all_exps"
   ]
  },
  {
   "cell_type": "code",
   "execution_count": 45,
   "metadata": {},
   "outputs": [
    {
     "data": {
      "text/plain": [
       "{'HhN3ZNkPkoxHkDzz': {'app1': {'app_glob': 'glob',\n",
       "   'app_glob2': 'glob2',\n",
       "   'foo_float': 1.23,\n",
       "   'foo_int': 123,\n",
       "   'foo_list1': 123,\n",
       "   'foo_list2': [123, '456'],\n",
       "   'foo_none': None,\n",
       "   'foo_parse1': ['a', 'b', 'c'],\n",
       "   'foo_parse2': 123,\n",
       "   'foo_parse3': 42,\n",
       "   'foo_ref1': 'string_value',\n",
       "   'foo_ref2': 'string_value',\n",
       "   'foo_str': 'string_value'},\n",
       "  'app2': {'app3': {}},\n",
       "  'app3': {'foo_str': 'abc'},\n",
       "  'app5': 5,\n",
       "  'new_key': 'kmasdkasm',\n",
       "  'new_key2': {'abc': 123}},\n",
       " 'mTzSztICfKt0Voj3': {'app1': {'app_glob': 'glob',\n",
       "   'app_glob2': 'glob2',\n",
       "   'foo_float': 1.23,\n",
       "   'foo_int': 123,\n",
       "   'foo_list1': '456',\n",
       "   'foo_list2': [123, '456'],\n",
       "   'foo_none': None,\n",
       "   'foo_parse1': ['a', 'b', 'c'],\n",
       "   'foo_parse2': 123,\n",
       "   'foo_parse3': 42,\n",
       "   'foo_ref1': 'string_value',\n",
       "   'foo_ref2': 'string_value',\n",
       "   'foo_str': 'string_value'},\n",
       "  'app2': {'app3': {}},\n",
       "  'app3': {'foo_str': 'abc'},\n",
       "  'app5': 5,\n",
       "  'new_key': 'kmasdkasm',\n",
       "  'new_key2': {'abc': 123}},\n",
       " '8WNMLIBK5jkrJaIY': {'app1': {'app_glob': 'glob',\n",
       "   'app_glob2': 'glob2',\n",
       "   'foo_float': 1.23,\n",
       "   'foo_int': 123,\n",
       "   'foo_list1': 789.0,\n",
       "   'foo_list2': [123, '456'],\n",
       "   'foo_none': None,\n",
       "   'foo_parse1': ['a', 'b', 'c'],\n",
       "   'foo_parse2': 123,\n",
       "   'foo_parse3': 42,\n",
       "   'foo_ref1': 'string_value',\n",
       "   'foo_ref2': 'string_value',\n",
       "   'foo_str': 'string_value'},\n",
       "  'app2': {'app3': {}},\n",
       "  'app3': {'foo_str': 'abc'},\n",
       "  'app5': 5,\n",
       "  'new_key': 'kmasdkasm',\n",
       "  'new_key2': {'abc': 123}},\n",
       " 'DO2T84byfPBTAviv': {'app1': {'app_glob': 'glob',\n",
       "   'app_glob2': 'glob2',\n",
       "   'foo_float': 1.23,\n",
       "   'foo_int': 123,\n",
       "   'foo_list1': [123, '456', 789.0],\n",
       "   'foo_list2': [123, '456'],\n",
       "   'foo_none': None,\n",
       "   'foo_parse1': ['a', 'b', 'c'],\n",
       "   'foo_parse2': 123,\n",
       "   'foo_parse3': 42,\n",
       "   'foo_ref1': 'string_value',\n",
       "   'foo_ref2': 'string_value',\n",
       "   'foo_str': 'string_value'},\n",
       "  'app2': {'app3': {}},\n",
       "  'app3': {'foo_str': 'abc'},\n",
       "  'app5': 5,\n",
       "  'new_key': 'kmasdkasm',\n",
       "  'new_key2': {'abc': 123}}}"
      ]
     },
     "execution_count": 45,
     "metadata": {},
     "output_type": "execute_result"
    }
   ],
   "source": [
    "#with match, sub_cfg must use relative keys\n",
    "to_check = {'new_key2.abc': 123}\n",
    "all_exps = exp_utils.exp.get_experiments(**exp_cfg, sub_cfg = to_check, check_type=\"match\")\n",
    "all_exps"
   ]
  },
  {
   "attachments": {},
   "cell_type": "markdown",
   "metadata": {},
   "source": [
    "### Sweep parameter"
   ]
  },
  {
   "cell_type": "code",
   "execution_count": 48,
   "metadata": {},
   "outputs": [
    {
     "name": "stdout",
     "output_type": "stream",
     "text": [
      "[123, '456', 789.0]\n",
      "123 ___ 123\n",
      "456 ___ 456\n",
      "789.0 ___ 789.0\n",
      "[123, '456', 789.0]\n"
     ]
    }
   ],
   "source": [
    "#If one parameter is an iterable of parameters to sweep, then use sweep. It will:\n",
    "#1) cycle on every value in the\n",
    "#2) set the value to the key\n",
    "#3) return the value\n",
    "#4) At the end of the cycle, restore the iterable as value to the key\n",
    "print(cfg['app1.foo_list1'])\n",
    "for param_value in cfg.sweep('app1.foo_list1'):\n",
    "    print(param_value,\"___\",cfg['app1.foo_list1'])\n",
    "    exp_utils.exp.get_set_experiment_id(cfg,exp_cfg),exp_utils.exp.save_experiment(cfg,exp_cfg)\n",
    "print(cfg['app1.foo_list1'])"
   ]
  },
  {
   "attachments": {},
   "cell_type": "markdown",
   "metadata": {},
   "source": [
    "## Sweep additions"
   ]
  },
  {
   "cell_type": "code",
   "execution_count": 22,
   "metadata": {},
   "outputs": [],
   "source": [
    "cfg = exp_utils.cfg.load_configuration(\"config2\")"
   ]
  },
  {
   "cell_type": "code",
   "execution_count": 23,
   "metadata": {},
   "outputs": [
    {
     "data": {
      "text/plain": [
       "{'app1': {'+/app1_2': ['app1_2_file']},\n",
       " '+app2': ['app2_file', 'app2bis_file'],\n",
       " '__exp__': {'name': 'prova',\n",
       "  'project_folder': '../',\n",
       "  'key_len': 16,\n",
       "  'key_prefix': '',\n",
       "  '__nosave__': {}}}"
      ]
     },
     "execution_count": 23,
     "metadata": {},
     "output_type": "execute_result"
    }
   ],
   "source": [
    "cfg"
   ]
  },
  {
   "cell_type": "code",
   "execution_count": 24,
   "metadata": {},
   "outputs": [
    {
     "ename": "NameError",
     "evalue": "name 'asdsadas' is not defined",
     "output_type": "error",
     "traceback": [
      "\u001b[0;31m---------------------------------------------------------------------------\u001b[0m",
      "\u001b[0;31mNameError\u001b[0m                                 Traceback (most recent call last)",
      "\u001b[1;32m/Users/federicosiciliano/Desktop/Py_utils/exp_utils/ntb/try_exp.ipynb Cella 63\u001b[0m in \u001b[0;36m<cell line: 1>\u001b[0;34m()\u001b[0m\n\u001b[1;32m      <a href='vscode-notebook-cell:/Users/federicosiciliano/Desktop/Py_utils/exp_utils/ntb/try_exp.ipynb#Y116sZmlsZQ%3D%3D?line=0'>1</a>\u001b[0m \u001b[39mfor\u001b[39;00m value1 \u001b[39min\u001b[39;00m cfg\u001b[39m.\u001b[39msweep_additions(\u001b[39m\"\u001b[39m\u001b[39mapp2\u001b[39m\u001b[39m\"\u001b[39m):\n\u001b[0;32m----> <a href='vscode-notebook-cell:/Users/federicosiciliano/Desktop/Py_utils/exp_utils/ntb/try_exp.ipynb#Y116sZmlsZQ%3D%3D?line=1'>2</a>\u001b[0m     \u001b[39mprint\u001b[39m(asdsadas)\n\u001b[1;32m      <a href='vscode-notebook-cell:/Users/federicosiciliano/Desktop/Py_utils/exp_utils/ntb/try_exp.ipynb#Y116sZmlsZQ%3D%3D?line=2'>3</a>\u001b[0m     \u001b[39mfor\u001b[39;00m value2 \u001b[39min\u001b[39;00m cfg\u001b[39m.\u001b[39msweep_additions(\u001b[39m\"\u001b[39m\u001b[39mapp1./app1_2\u001b[39m\u001b[39m\"\u001b[39m):\n\u001b[1;32m      <a href='vscode-notebook-cell:/Users/federicosiciliano/Desktop/Py_utils/exp_utils/ntb/try_exp.ipynb#Y116sZmlsZQ%3D%3D?line=3'>4</a>\u001b[0m         \u001b[39mprint\u001b[39m(value2)\n",
      "\u001b[0;31mNameError\u001b[0m: name 'asdsadas' is not defined"
     ]
    }
   ],
   "source": [
    "for value1 in cfg.sweep_additions(\"app2\"):\n",
    "    print(asdsadas)\n",
    "    for value2 in cfg.sweep_additions(\"app1./app1_2\"):\n",
    "        print(value2)\n",
    "        print(cfg)\n",
    "        print()"
   ]
  },
  {
   "cell_type": "code",
   "execution_count": 26,
   "metadata": {},
   "outputs": [
    {
     "data": {
      "text/plain": [
       "{'app3': {'foo_int1': 123},\n",
       " 'foo_str': 'app2_foo',\n",
       " '__nosave__': ['foo_str', 'foo_int2', 'app3.foo_int1'],\n",
       " 'foo_int2': 123}"
      ]
     },
     "execution_count": 26,
     "metadata": {},
     "output_type": "execute_result"
    }
   ],
   "source": [
    "cfg[\"app2\"]"
   ]
  },
  {
   "cell_type": "code",
   "execution_count": 25,
   "metadata": {},
   "outputs": [
    {
     "data": {
      "text/plain": [
       "{'app1': {'+/app1_2': ['app1_2_file']},\n",
       " '__exp__': {'name': 'prova',\n",
       "  'project_folder': '../',\n",
       "  'key_len': 16,\n",
       "  'key_prefix': '',\n",
       "  '__nosave__': {}},\n",
       " '__global__': {'app1': {'app_glob': 'glob', 'app_glob2': 'glob2'}},\n",
       " 'app2': {'app3': {'foo_int1': 123},\n",
       "  'foo_str': 'app2_foo',\n",
       "  '__nosave__': ['foo_str', 'foo_int2', 'app3.foo_int1'],\n",
       "  'foo_int2': 123}}"
      ]
     },
     "execution_count": 25,
     "metadata": {},
     "output_type": "execute_result"
    }
   ],
   "source": [
    "cfg"
   ]
  },
  {
   "attachments": {},
   "cell_type": "markdown",
   "metadata": {},
   "source": [
    "# Yaml loading times"
   ]
  },
  {
   "cell_type": "code",
   "execution_count": null,
   "metadata": {},
   "outputs": [],
   "source": [
    "import yaml, os, time"
   ]
  },
  {
   "cell_type": "code",
   "execution_count": null,
   "metadata": {},
   "outputs": [],
   "source": [
    "for i in range(10):\n",
    "    with open(os.path.join(\"../out/exp\",str(i)+\".yaml\"), 'w') as f:\n",
    "        yaml.safe_dump(cfg[\"__exp__\"],f)"
   ]
  },
  {
   "cell_type": "code",
   "execution_count": null,
   "metadata": {},
   "outputs": [
    {
     "name": "stdout",
     "output_type": "stream",
     "text": [
      "1 Time/read: 0.0011250972747802734\n",
      "1 Tot time: 0.0011250972747802734\n",
      "\n",
      "10 Time/read: 0.0002203702926635742\n",
      "10 Tot time: 0.002203702926635742\n",
      "\n",
      "100 Time/read: 6.832838058471679e-05\n",
      "100 Tot time: 0.00683283805847168\n",
      "\n",
      "1000 Time/read: 5.3598880767822266e-05\n",
      "1000 Tot time: 0.053598880767822266\n",
      "\n",
      "10000 Time/read: 5.807058811187744e-05\n",
      "10000 Tot time: 0.5807058811187744\n",
      "\n"
     ]
    }
   ],
   "source": [
    "start_time = time.time()\n",
    "\n",
    "for cont in range(10001):\n",
    "    with open(os.path.join(\"../out/exp\",str(cont%10)+\".yaml\"), 'r') as f:\n",
    "       cfg2 = yaml.safe_load(f)\n",
    "\n",
    "       app = cfg==cfg2\n",
    "\n",
    "    if cont in [1,10,100,1000,10000]:\n",
    "        end_time = time.time()\n",
    "        print(cont,\"Time/read:\",(end_time-start_time)/cont)\n",
    "        print(cont,\"Tot time:\",(end_time-start_time))\n",
    "        print()"
   ]
  },
  {
   "attachments": {},
   "cell_type": "markdown",
   "metadata": {},
   "source": [
    "## Argparse"
   ]
  },
  {
   "cell_type": "code",
   "execution_count": null,
   "metadata": {},
   "outputs": [],
   "source": [
    "import argparse, numpy as np"
   ]
  },
  {
   "cell_type": "code",
   "execution_count": null,
   "metadata": {},
   "outputs": [],
   "source": [
    "parser = argparse.ArgumentParser(\n",
    "                    prog = 'ProgramName',\n",
    "                    description = 'What the program does',\n",
    "                    epilog = 'Text at the bottom of help')"
   ]
  },
  {
   "cell_type": "code",
   "execution_count": null,
   "metadata": {},
   "outputs": [
    {
     "data": {
      "text/plain": [
       "_StoreAction(option_strings=['--foo.foo'], dest='foo.foo', nargs=None, const=None, default=[1, 2, 3], type=None, choices=None, help=None, metavar=None)"
      ]
     },
     "execution_count": 40,
     "metadata": {},
     "output_type": "execute_result"
    }
   ],
   "source": [
    "parser.add_argument(\n",
    "    \"--foo.foo\", #name or flags - Either a name or a list of option strings, e.g. foo or -f, --foo.\n",
    "    #optional arguments will be identified by the - prefix; remaining arguments will be assumed to be positional\n",
    "    # action - The basic type of action to be taken when this argument is encountered at the command line.\n",
    "# nargs - The number of command-line arguments that should be consumed.\n",
    "# const - A constant value required by some action and nargs selections.\n",
    "    default = [1,2,3], #np.ones((2,3))# default - The value produced if the argument is absent from the command line and if it is absent from the namespace object.\n",
    "# type - The type to which the command-line argument should be converted.\n",
    "# choices - A sequence of the allowable values for the argument.\n",
    "# required - Whether or not the command-line option may be omitted (optionals only).\n",
    "# help - A brief description of what the argument does.\n",
    "# metavar - A name for the argument in usage messages.\n",
    "# dest - The name of the attribute to be added to the object returned by parse_args().\n",
    "    )"
   ]
  },
  {
   "cell_type": "code",
   "execution_count": null,
   "metadata": {},
   "outputs": [],
   "source": [
    "args = parser.parse_args([\"--foo\",\"1\"])"
   ]
  },
  {
   "cell_type": "code",
   "execution_count": null,
   "metadata": {},
   "outputs": [
    {
     "data": {
      "text/plain": [
       "array([[1., 1.]])"
      ]
     },
     "execution_count": 42,
     "metadata": {},
     "output_type": "execute_result"
    }
   ],
   "source": [
    "eval(\"np.ones((1,2))\")"
   ]
  },
  {
   "cell_type": "code",
   "execution_count": null,
   "metadata": {},
   "outputs": [
    {
     "ename": "NameError",
     "evalue": "name 'parse_argument' is not defined",
     "output_type": "error",
     "traceback": [
      "\u001b[0;31m---------------------------------------------------------------------------\u001b[0m",
      "\u001b[0;31mNameError\u001b[0m                                 Traceback (most recent call last)",
      "\u001b[1;32m/Users/federicosiciliano/Desktop/Py_utils/exp_utils/ntb/try.ipynb Cell 58\u001b[0m in \u001b[0;36m<cell line: 1>\u001b[0;34m()\u001b[0m\n\u001b[0;32m----> <a href='vscode-notebook-cell:/Users/federicosiciliano/Desktop/Py_utils/exp_utils/ntb/try.ipynb#Y106sZmlsZQ%3D%3D?line=0'>1</a>\u001b[0m parse_argument()\n",
      "\u001b[0;31mNameError\u001b[0m: name 'parse_argument' is not defined"
     ]
    }
   ],
   "source": [
    "parse_argument()"
   ]
  },
  {
   "cell_type": "code",
   "execution_count": null,
   "metadata": {},
   "outputs": [],
   "source": []
  }
 ],
 "metadata": {
  "kernelspec": {
   "display_name": "Python 3",
   "language": "python",
   "name": "python3"
  },
  "language_info": {
   "codemirror_mode": {
    "name": "ipython",
    "version": 3
   },
   "file_extension": ".py",
   "mimetype": "text/x-python",
   "name": "python",
   "nbconvert_exporter": "python",
   "pygments_lexer": "ipython3",
   "version": "3.9.6"
  },
  "orig_nbformat": 4,
  "vscode": {
   "interpreter": {
    "hash": "31f2aee4e71d21fbe5cf8b01ff0e069b9275f58929596ceb00d14d90e3e16cd6"
   }
  }
 },
 "nbformat": 4,
 "nbformat_minor": 2
}
